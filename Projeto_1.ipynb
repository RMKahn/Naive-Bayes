{
 "cells": [
  {
   "cell_type": "markdown",
   "metadata": {},
   "source": [
    "# Projeto 1 - Ciência dos Dados"
   ]
  },
  {
   "cell_type": "markdown",
   "metadata": {},
   "source": [
    "Nome: Rafael Meyer Kahn<br>\n",
    "Nome: Hélio Zaia Franciscon"
   ]
  },
  {
   "cell_type": "markdown",
   "metadata": {},
   "source": [
    "___\n",
    "Carregando algumas bibliotecas:"
   ]
  },
  {
   "cell_type": "code",
   "execution_count": 1,
   "metadata": {},
   "outputs": [],
   "source": [
    "%matplotlib inline\n",
    "import pandas as pd\n",
    "import matplotlib.pyplot as plt\n",
    "import numpy as np\n",
    "import os\n",
    "import tweepy\n",
    "import math\n",
    "import pandas as pd\n",
    "import json\n",
    "from random import shuffle\n",
    "import emoji_list\n",
    "import emoji\n",
    "from sklearn.tree import export_graphviz\n",
    "import graphviz\n",
    "from IPython.display import Image"
   ]
  },
  {
   "cell_type": "code",
   "execution_count": 2,
   "metadata": {
    "scrolled": false
   },
   "outputs": [
    {
     "name": "stdout",
     "output_type": "stream",
     "text": [
      "Esperamos trabalhar no diretório\n",
      "C:\\Users\\lobda\\Desktop\\Insper\\2º Semestre\\Ciência dos Dados\\DP\\Projeto-1\n"
     ]
    }
   ],
   "source": [
    "print('Esperamos trabalhar no diretório')\n",
    "print(os.getcwd())"
   ]
  },
  {
   "cell_type": "markdown",
   "metadata": {},
   "source": [
    "Carregando a base de dados com os tweets classificados como relevantes e não relevantes:"
   ]
  },
  {
   "cell_type": "code",
   "execution_count": 3,
   "metadata": {},
   "outputs": [],
   "source": [
    "dados = pd.read_excel('Netflix.xlsx')\n",
    "teste = pd.read_excel('Netflix.xlsx', 'Teste')"
   ]
  },
  {
   "cell_type": "markdown",
   "metadata": {},
   "source": [
    "___\n",
    "## Classificador automático de sentimento\n"
   ]
  },
  {
   "cell_type": "markdown",
   "metadata": {},
   "source": [
    "Faça aqui uma descrição do seu produto e o que considerou como relevante ou não relevante na classificação dos tweets.\n",
    "\n",
    "O produto abordado durante este projeto foi Netflix. Por ser uma provedora global de filmes e séries, existem diversos tweets sobre seu conteúdo, portanto foi levado em consideração 4 níveis de classificação: Irrelevante, Elogio, Crítica e Sugestão. Com isso, pode-se classificar os tweets obtidos nessas 4 categorias para melhor organizar o tipo de comentário que estão fazendo sobre o produto na internet, resultando assim numa melhor distribuição dos tweets para cada área da empresa analisar os fatores relevantes que estão sendo tweetados on-line."
   ]
  },
  {
   "cell_type": "markdown",
   "metadata": {},
   "source": [
    "___\n",
    "### Montando um Classificador Naive-Bayes\n",
    "\n",
    "Considerando apenas as mensagens da planilha Treinamento, ensine  seu classificador."
   ]
  },
  {
   "cell_type": "code",
   "execution_count": 4,
   "metadata": {},
   "outputs": [
    {
     "data": {
      "text/html": [
       "<div>\n",
       "<style scoped>\n",
       "    .dataframe tbody tr th:only-of-type {\n",
       "        vertical-align: middle;\n",
       "    }\n",
       "\n",
       "    .dataframe tbody tr th {\n",
       "        vertical-align: top;\n",
       "    }\n",
       "\n",
       "    .dataframe thead th {\n",
       "        text-align: right;\n",
       "    }\n",
       "</style>\n",
       "<table border=\"1\" class=\"dataframe\">\n",
       "  <thead>\n",
       "    <tr style=\"text-align: right;\">\n",
       "      <th></th>\n",
       "      <th>Treinamento</th>\n",
       "      <th>Classificacao</th>\n",
       "    </tr>\n",
       "  </thead>\n",
       "  <tbody>\n",
       "    <tr>\n",
       "      <th>0</th>\n",
       "      <td>achei uma série de investigação policial, agor...</td>\n",
       "      <td>1</td>\n",
       "    </tr>\n",
       "    <tr>\n",
       "      <th>1</th>\n",
       "      <td>uma sequência do clássico está programada para...</td>\n",
       "      <td>0</td>\n",
       "    </tr>\n",
       "    <tr>\n",
       "      <th>2</th>\n",
       "      <td>#alteredcarbon animação da netflix ganha trail...</td>\n",
       "      <td>0</td>\n",
       "    </tr>\n",
       "    <tr>\n",
       "      <th>3</th>\n",
       "      <td>sofá, breja e netflix \\nsó na cama vários hits</td>\n",
       "      <td>1</td>\n",
       "    </tr>\n",
       "    <tr>\n",
       "      <th>4</th>\n",
       "      <td>o surto que confundi e corri na netflix achand...</td>\n",
       "      <td>0</td>\n",
       "    </tr>\n",
       "    <tr>\n",
       "      <th>5</th>\n",
       "      <td>troco em dobro (2020) | nada mais do que puro ...</td>\n",
       "      <td>0</td>\n",
       "    </tr>\n",
       "    <tr>\n",
       "      <th>6</th>\n",
       "      <td>netflix não conte comigo para mais nada eu me ...</td>\n",
       "      <td>0</td>\n",
       "    </tr>\n",
       "    <tr>\n",
       "      <th>7</th>\n",
       "      <td>rt @hgirardi98: netflix favor parar de lançar ...</td>\n",
       "      <td>2</td>\n",
       "    </tr>\n",
       "    <tr>\n",
       "      <th>8</th>\n",
       "      <td>rt @solteirasince: meu hobby é ficar duas hora...</td>\n",
       "      <td>0</td>\n",
       "    </tr>\n",
       "    <tr>\n",
       "      <th>9</th>\n",
       "      <td>nao são nem 9h da manhã e já to querendo ir pr...</td>\n",
       "      <td>0</td>\n",
       "    </tr>\n",
       "  </tbody>\n",
       "</table>\n",
       "</div>"
      ],
      "text/plain": [
       "                                         Treinamento  Classificacao\n",
       "0  achei uma série de investigação policial, agor...              1\n",
       "1  uma sequência do clássico está programada para...              0\n",
       "2  #alteredcarbon animação da netflix ganha trail...              0\n",
       "3     sofá, breja e netflix \\nsó na cama vários hits              1\n",
       "4  o surto que confundi e corri na netflix achand...              0\n",
       "5  troco em dobro (2020) | nada mais do que puro ...              0\n",
       "6  netflix não conte comigo para mais nada eu me ...              0\n",
       "7  rt @hgirardi98: netflix favor parar de lançar ...              2\n",
       "8  rt @solteirasince: meu hobby é ficar duas hora...              0\n",
       "9  nao são nem 9h da manhã e já to querendo ir pr...              0"
      ]
     },
     "execution_count": 4,
     "metadata": {},
     "output_type": "execute_result"
    }
   ],
   "source": [
    "#Exibindo tweets\n",
    "dados.head(10)"
   ]
  },
  {
   "cell_type": "code",
   "execution_count": 5,
   "metadata": {},
   "outputs": [],
   "source": [
    "#Definindo uma função que limpa caractéres indesejados\n",
    "def clean(tabela, titulo):\n",
    "    a = tabela[titulo]\n",
    "    a = a.str.lower()\n",
    "\n",
    "    itens = ['.', ':', ';', '\"', \"'\", '?', '(', ')', '[',']',',', '\\n', '\\t','*','|','+']\n",
    "    i2 = ['?', '!']\n",
    "    emojis = emoji_list.all_emoji\n",
    "    #separa emojis de palavras\n",
    "    for emoji in emojis:\n",
    "        try:\n",
    "            a = a.str.replace(emoji,\" {} \".format(emoji) )\n",
    "        except:\n",
    "            pass\n",
    "    #retira caracteres indesejados\n",
    "    for e in itens:\n",
    "        a = a.str.replace(e,'')\n",
    "    #separa '?' e '!' de palavras\n",
    "    for e in i2:\n",
    "        a = a.str.replace(e,' {} '.format(e))\n",
    "\n",
    "    #Substitui caracteres com acento ou variação por caracteres desejados\n",
    "    a = a.str.replace('é','e')\n",
    "    a = a.str.replace('ê','e')\n",
    "    a = a.str.replace('á','a')\n",
    "    a = a.str.replace('ã','a')\n",
    "    a = a.str.replace('ô','o')\n",
    "    a = a.str.replace('ó','o')\n",
    "    a = a.str.replace('ú','u')\n",
    "    a = a.str.replace('ç','c')\n",
    "    a = a.str.replace('í','i')\n",
    "    a = a.str.replace('@',' @')\n",
    "        \n",
    "    tabela[titulo] = a\n",
    "\n",
    "    return tabela"
   ]
  },
  {
   "cell_type": "code",
   "execution_count": 6,
   "metadata": {},
   "outputs": [
    {
     "data": {
      "text/html": [
       "<div>\n",
       "<style scoped>\n",
       "    .dataframe tbody tr th:only-of-type {\n",
       "        vertical-align: middle;\n",
       "    }\n",
       "\n",
       "    .dataframe tbody tr th {\n",
       "        vertical-align: top;\n",
       "    }\n",
       "\n",
       "    .dataframe thead th {\n",
       "        text-align: right;\n",
       "    }\n",
       "</style>\n",
       "<table border=\"1\" class=\"dataframe\">\n",
       "  <thead>\n",
       "    <tr style=\"text-align: right;\">\n",
       "      <th></th>\n",
       "      <th>Treinamento</th>\n",
       "      <th>Classificacao</th>\n",
       "    </tr>\n",
       "  </thead>\n",
       "  <tbody>\n",
       "    <tr>\n",
       "      <th>0</th>\n",
       "      <td>achei uma serie de investigacao policial agora...</td>\n",
       "      <td>1</td>\n",
       "    </tr>\n",
       "    <tr>\n",
       "      <th>1</th>\n",
       "      <td>uma sequencia do classico esta programada para...</td>\n",
       "      <td>0</td>\n",
       "    </tr>\n",
       "    <tr>\n",
       "      <th>2</th>\n",
       "      <td># alteredcarbon animacao da netflix ganha tra...</td>\n",
       "      <td>0</td>\n",
       "    </tr>\n",
       "    <tr>\n",
       "      <th>3</th>\n",
       "      <td>sofa breja e netflix so na cama varios hits</td>\n",
       "      <td>1</td>\n",
       "    </tr>\n",
       "    <tr>\n",
       "      <th>4</th>\n",
       "      <td>o surto que confundi e corri na netflix achand...</td>\n",
       "      <td>0</td>\n",
       "    </tr>\n",
       "    <tr>\n",
       "      <th>5</th>\n",
       "      <td>troco em dobro  2  0  2  0   nada mais do que ...</td>\n",
       "      <td>0</td>\n",
       "    </tr>\n",
       "    <tr>\n",
       "      <th>6</th>\n",
       "      <td>netflix nao conte comigo para mais nada eu me ...</td>\n",
       "      <td>0</td>\n",
       "    </tr>\n",
       "    <tr>\n",
       "      <th>7</th>\n",
       "      <td>rt  @hgirardi 9  8  netflix favor parar de lan...</td>\n",
       "      <td>2</td>\n",
       "    </tr>\n",
       "    <tr>\n",
       "      <th>8</th>\n",
       "      <td>rt  @solteirasince meu hobby e ficar duas hora...</td>\n",
       "      <td>0</td>\n",
       "    </tr>\n",
       "    <tr>\n",
       "      <th>9</th>\n",
       "      <td>nao sao nem  9 h da manha e ja to querendo ir ...</td>\n",
       "      <td>0</td>\n",
       "    </tr>\n",
       "  </tbody>\n",
       "</table>\n",
       "</div>"
      ],
      "text/plain": [
       "                                         Treinamento  Classificacao\n",
       "0  achei uma serie de investigacao policial agora...              1\n",
       "1  uma sequencia do classico esta programada para...              0\n",
       "2   # alteredcarbon animacao da netflix ganha tra...              0\n",
       "3        sofa breja e netflix so na cama varios hits              1\n",
       "4  o surto que confundi e corri na netflix achand...              0\n",
       "5  troco em dobro  2  0  2  0   nada mais do que ...              0\n",
       "6  netflix nao conte comigo para mais nada eu me ...              0\n",
       "7  rt  @hgirardi 9  8  netflix favor parar de lan...              2\n",
       "8  rt  @solteirasince meu hobby e ficar duas hora...              0\n",
       "9  nao sao nem  9 h da manha e ja to querendo ir ...              0"
      ]
     },
     "execution_count": 6,
     "metadata": {},
     "output_type": "execute_result"
    }
   ],
   "source": [
    "#Limpando os dados\n",
    "filtro = clean(dados, 'Treinamento')\n",
    "#Testando\n",
    "filtro.head(10)"
   ]
  },
  {
   "cell_type": "code",
   "execution_count": 7,
   "metadata": {},
   "outputs": [],
   "source": [
    "#Separando em tabelas por classificação\n",
    "irrelevante = filtro.loc[(filtro.Classificacao == 0)]\n",
    "elogio = filtro.loc[(filtro.Classificacao == 1)]\n",
    "critica = filtro.loc[(filtro.Classificacao == 2)]\n",
    "sugestao = filtro.loc[(filtro.Classificacao == 3)]"
   ]
  },
  {
   "cell_type": "code",
   "execution_count": 8,
   "metadata": {},
   "outputs": [],
   "source": [
    "#Definindo uma função que separa as palavras\n",
    "def tt_split(tabela, titulo):\n",
    "    a = tabela[titulo].str.split(' ')\n",
    "\n",
    "    li = pd.DataFrame()\n",
    "    li['palavras'] = []\n",
    "\n",
    "    for lista in a:\n",
    "        for e in ['#','' , ' ']:\n",
    "            while lista.count(e) != 0:\n",
    "                lista.remove(e)\n",
    "\n",
    "        for palavra in lista:\n",
    "            if '@' in palavra and palavra != '@':\n",
    "                lista.remove(palavra) \n",
    "            if palavra[:4] == 'http':\n",
    "                lista.remove(palavra)\n",
    "        li = li.append({'palavras': lista}, ignore_index=True)\n",
    "                \n",
    "    return li"
   ]
  },
  {
   "cell_type": "code",
   "execution_count": 9,
   "metadata": {},
   "outputs": [
    {
     "data": {
      "text/html": [
       "<div>\n",
       "<style scoped>\n",
       "    .dataframe tbody tr th:only-of-type {\n",
       "        vertical-align: middle;\n",
       "    }\n",
       "\n",
       "    .dataframe tbody tr th {\n",
       "        vertical-align: top;\n",
       "    }\n",
       "\n",
       "    .dataframe thead th {\n",
       "        text-align: right;\n",
       "    }\n",
       "</style>\n",
       "<table border=\"1\" class=\"dataframe\">\n",
       "  <thead>\n",
       "    <tr style=\"text-align: right;\">\n",
       "      <th></th>\n",
       "      <th>palavras</th>\n",
       "    </tr>\n",
       "  </thead>\n",
       "  <tbody>\n",
       "    <tr>\n",
       "      <th>0</th>\n",
       "      <td>[achei, uma, serie, de, investigacao, policial...</td>\n",
       "    </tr>\n",
       "    <tr>\n",
       "      <th>1</th>\n",
       "      <td>[sofa, breja, e, netflix, so, na, cama, varios...</td>\n",
       "    </tr>\n",
       "    <tr>\n",
       "      <th>2</th>\n",
       "      <td>[estou, assistindo, uma, serie, mt, boa, sobre...</td>\n",
       "    </tr>\n",
       "    <tr>\n",
       "      <th>3</th>\n",
       "      <td>[rt, a, historia, do, lil, peep, e, incrivel, ...</td>\n",
       "    </tr>\n",
       "    <tr>\n",
       "      <th>4</th>\n",
       "      <td>[acabei, de, assistir, a, animacao, de, pokemo...</td>\n",
       "    </tr>\n",
       "    <tr>\n",
       "      <th>5</th>\n",
       "      <td>[rt, melhor, date, do, mundo, e, em, casa, dei...</td>\n",
       "    </tr>\n",
       "    <tr>\n",
       "      <th>6</th>\n",
       "      <td>[almocar, a, ver, um, filme, random, da, netfl...</td>\n",
       "    </tr>\n",
       "    <tr>\n",
       "      <th>7</th>\n",
       "      <td>[meu, deus, agora, que, eu, vi, que, tem, itae...</td>\n",
       "    </tr>\n",
       "    <tr>\n",
       "      <th>8</th>\n",
       "      <td>[e, a, netflix, que, vai, lancar, uma, serie, ...</td>\n",
       "    </tr>\n",
       "    <tr>\n",
       "      <th>9</th>\n",
       "      <td>[a, netflix, ate, que, tem, um, acervo, bom, d...</td>\n",
       "    </tr>\n",
       "  </tbody>\n",
       "</table>\n",
       "</div>"
      ],
      "text/plain": [
       "                                            palavras\n",
       "0  [achei, uma, serie, de, investigacao, policial...\n",
       "1  [sofa, breja, e, netflix, so, na, cama, varios...\n",
       "2  [estou, assistindo, uma, serie, mt, boa, sobre...\n",
       "3  [rt, a, historia, do, lil, peep, e, incrivel, ...\n",
       "4  [acabei, de, assistir, a, animacao, de, pokemo...\n",
       "5  [rt, melhor, date, do, mundo, e, em, casa, dei...\n",
       "6  [almocar, a, ver, um, filme, random, da, netfl...\n",
       "7  [meu, deus, agora, que, eu, vi, que, tem, itae...\n",
       "8  [e, a, netflix, que, vai, lancar, uma, serie, ...\n",
       "9  [a, netflix, ate, que, tem, um, acervo, bom, d..."
      ]
     },
     "execution_count": 9,
     "metadata": {},
     "output_type": "execute_result"
    }
   ],
   "source": [
    "#Separando os tweets das tabelas limpas\n",
    "irrelevante_limpa = tt_split(irrelevante, 'Treinamento')\n",
    "elogio_limpa = tt_split(elogio, 'Treinamento')\n",
    "critica_limpa = tt_split(critica, 'Treinamento')\n",
    "sugestao_limpa = tt_split(sugestao, 'Treinamento')\n",
    "todos_limpa = tt_split(filtro, 'Treinamento')\n",
    "#Testando\n",
    "elogio_limpa.head(10)"
   ]
  },
  {
   "cell_type": "code",
   "execution_count": 10,
   "metadata": {},
   "outputs": [],
   "source": [
    "#Definindo função que cria tabela com as palavras separadas\n",
    "def palavras(tabela):\n",
    "    a = tabela['palavras']\n",
    "    prob = pd.DataFrame()\n",
    "    prob['palavras'] = []\n",
    "    for lista in a:\n",
    "        for e in lista:\n",
    "            prob = prob.append({'palavras': e}, ignore_index=True)\n",
    "    \n",
    "    return prob['palavras']"
   ]
  },
  {
   "cell_type": "code",
   "execution_count": 11,
   "metadata": {},
   "outputs": [
    {
     "data": {
      "text/plain": [
       "0           achei\n",
       "1             uma\n",
       "2           serie\n",
       "3              de\n",
       "4    investigacao\n",
       "5        policial\n",
       "6           agora\n",
       "7              eu\n",
       "8           nunca\n",
       "9            mais\n",
       "Name: palavras, dtype: object"
      ]
     },
     "execution_count": 11,
     "metadata": {},
     "output_type": "execute_result"
    }
   ],
   "source": [
    "#Separando as palavras\n",
    "irrelevante_separada = palavras(irrelevante_limpa)\n",
    "elogio_separada = palavras(elogio_limpa)\n",
    "critica_separada = palavras(critica_limpa)\n",
    "sugestao_separada = palavras(sugestao_limpa)\n",
    "todos_separada = palavras(todos_limpa)\n",
    "#Testando\n",
    "elogio_separada.head(10)"
   ]
  },
  {
   "cell_type": "code",
   "execution_count": 12,
   "metadata": {},
   "outputs": [
    {
     "data": {
      "text/plain": [
       "netflix    111\n",
       "e           78\n",
       "a           58\n",
       "de          52\n",
       "que         50\n",
       "na          46\n",
       "eu          36\n",
       "um          28\n",
       "o           28\n",
       "serie       25\n",
       "Name: palavras, dtype: int64"
      ]
     },
     "execution_count": 12,
     "metadata": {},
     "output_type": "execute_result"
    }
   ],
   "source": [
    "#Obtendo as frequências absolutas\n",
    "freq_irrelevante = irrelevante_separada.value_counts()\n",
    "freq_elogio = elogio_separada.value_counts()\n",
    "freq_critica = critica_separada.value_counts()\n",
    "freq_sugestao = sugestao_separada.value_counts()\n",
    "freq_todos = todos_separada.value_counts()\n",
    "#Testando\n",
    "freq_elogio.head(10)"
   ]
  },
  {
   "cell_type": "code",
   "execution_count": 13,
   "metadata": {},
   "outputs": [
    {
     "data": {
      "text/plain": [
       "netflix    0.055005\n",
       "e          0.038652\n",
       "a          0.028741\n",
       "de         0.025768\n",
       "que        0.024777\n",
       "na         0.022795\n",
       "eu         0.017839\n",
       "um         0.013875\n",
       "o          0.013875\n",
       "serie      0.012389\n",
       "Name: palavras, dtype: float64"
      ]
     },
     "execution_count": 13,
     "metadata": {},
     "output_type": "execute_result"
    }
   ],
   "source": [
    "#Obtendo as frequências relativas\n",
    "freq_rel_irrelevante = irrelevante_separada.value_counts(True)\n",
    "freq_rel_elogio = elogio_separada.value_counts(True)\n",
    "freq_rel_critica = critica_separada.value_counts(True)\n",
    "freq_rel_sugestao = sugestao_separada.value_counts(True)\n",
    "freq_rel_todos = todos_separada.value_counts(True)\n",
    "#Testando\n",
    "freq_rel_elogio.head(10)"
   ]
  },
  {
   "cell_type": "markdown",
   "metadata": {},
   "source": [
    "___\n",
    "### Verificando a performance do Classificador\n",
    "\n",
    "Agora você deve testar o seu classificador com a base de Testes."
   ]
  },
  {
   "cell_type": "code",
   "execution_count": 14,
   "metadata": {},
   "outputs": [],
   "source": [
    "teste['Bot'] = 0\n",
    "teste['Resultado'] = pd.Series()\n",
    "teste_clean = clean(teste,'Teste')\n",
    "teste_f = tt_split(teste_clean,'Teste')\n",
    "\n",
    "#função para multiplicar itens dentro de uma lista\n",
    "def multiplica(Lista) :     \n",
    "    u = 1\n",
    "    for x in Lista: \n",
    "         u = u * x  \n",
    "    return u  "
   ]
  },
  {
   "cell_type": "code",
   "execution_count": 15,
   "metadata": {},
   "outputs": [
    {
     "data": {
      "text/html": [
       "<div>\n",
       "<style scoped>\n",
       "    .dataframe tbody tr th:only-of-type {\n",
       "        vertical-align: middle;\n",
       "    }\n",
       "\n",
       "    .dataframe tbody tr th {\n",
       "        vertical-align: top;\n",
       "    }\n",
       "\n",
       "    .dataframe thead th {\n",
       "        text-align: right;\n",
       "    }\n",
       "</style>\n",
       "<table border=\"1\" class=\"dataframe\">\n",
       "  <thead>\n",
       "    <tr style=\"text-align: right;\">\n",
       "      <th></th>\n",
       "      <th>palavras</th>\n",
       "    </tr>\n",
       "  </thead>\n",
       "  <tbody>\n",
       "    <tr>\n",
       "      <th>0</th>\n",
       "      <td>[to, sem, netflix, que, triste, como, q, vou, ...</td>\n",
       "    </tr>\n",
       "    <tr>\n",
       "      <th>1</th>\n",
       "      <td>[e, vamos, de, netflix, maior, e, melhor]</td>\n",
       "    </tr>\n",
       "    <tr>\n",
       "      <th>2</th>\n",
       "      <td>[@kelcyrus, ja, pode, fechar, contrato, com, a...</td>\n",
       "    </tr>\n",
       "    <tr>\n",
       "      <th>3</th>\n",
       "      <td>[sim, tiraram, o, meu, dorama, favorito, da, n...</td>\n",
       "    </tr>\n",
       "    <tr>\n",
       "      <th>4</th>\n",
       "      <td>[rt, netflix, lanca, sua, primeira, serie, sul...</td>\n",
       "    </tr>\n",
       "  </tbody>\n",
       "</table>\n",
       "</div>"
      ],
      "text/plain": [
       "                                            palavras\n",
       "0  [to, sem, netflix, que, triste, como, q, vou, ...\n",
       "1          [e, vamos, de, netflix, maior, e, melhor]\n",
       "2  [@kelcyrus, ja, pode, fechar, contrato, com, a...\n",
       "3  [sim, tiraram, o, meu, dorama, favorito, da, n...\n",
       "4  [rt, netflix, lanca, sua, primeira, serie, sul..."
      ]
     },
     "execution_count": 15,
     "metadata": {},
     "output_type": "execute_result"
    }
   ],
   "source": [
    "teste_f.head()"
   ]
  },
  {
   "cell_type": "code",
   "execution_count": 16,
   "metadata": {},
   "outputs": [
    {
     "name": "stderr",
     "output_type": "stream",
     "text": [
      "C:\\Users\\lobda\\Anaconda3\\lib\\site-packages\\ipykernel_launcher.py:47: SettingWithCopyWarning: \n",
      "A value is trying to be set on a copy of a slice from a DataFrame\n",
      "\n",
      "See the caveats in the documentation: http://pandas.pydata.org/pandas-docs/stable/indexing.html#indexing-view-versus-copy\n",
      "C:\\Users\\lobda\\Anaconda3\\lib\\site-packages\\ipykernel_launcher.py:49: SettingWithCopyWarning: \n",
      "A value is trying to be set on a copy of a slice from a DataFrame\n",
      "\n",
      "See the caveats in the documentation: http://pandas.pydata.org/pandas-docs/stable/indexing.html#indexing-view-versus-copy\n",
      "C:\\Users\\lobda\\Anaconda3\\lib\\site-packages\\pandas\\core\\indexing.py:190: SettingWithCopyWarning: \n",
      "A value is trying to be set on a copy of a slice from a DataFrame\n",
      "\n",
      "See the caveats in the documentation: http://pandas.pydata.org/pandas-docs/stable/indexing.html#indexing-view-versus-copy\n",
      "  self._setitem_with_indexer(indexer, value)\n",
      "C:\\Users\\lobda\\Anaconda3\\lib\\site-packages\\ipykernel_launcher.py:53: SettingWithCopyWarning: \n",
      "A value is trying to be set on a copy of a slice from a DataFrame\n",
      "\n",
      "See the caveats in the documentation: http://pandas.pydata.org/pandas-docs/stable/indexing.html#indexing-view-versus-copy\n",
      "C:\\Users\\lobda\\Anaconda3\\lib\\site-packages\\ipykernel_launcher.py:57: SettingWithCopyWarning: \n",
      "A value is trying to be set on a copy of a slice from a DataFrame\n",
      "\n",
      "See the caveats in the documentation: http://pandas.pydata.org/pandas-docs/stable/indexing.html#indexing-view-versus-copy\n",
      "C:\\Users\\lobda\\Anaconda3\\lib\\site-packages\\ipykernel_launcher.py:59: SettingWithCopyWarning: \n",
      "A value is trying to be set on a copy of a slice from a DataFrame\n",
      "\n",
      "See the caveats in the documentation: http://pandas.pydata.org/pandas-docs/stable/indexing.html#indexing-view-versus-copy\n",
      "C:\\Users\\lobda\\Anaconda3\\lib\\site-packages\\ipykernel_launcher.py:61: SettingWithCopyWarning: \n",
      "A value is trying to be set on a copy of a slice from a DataFrame\n",
      "\n",
      "See the caveats in the documentation: http://pandas.pydata.org/pandas-docs/stable/indexing.html#indexing-view-versus-copy\n",
      "C:\\Users\\lobda\\Anaconda3\\lib\\site-packages\\ipykernel_launcher.py:65: SettingWithCopyWarning: \n",
      "A value is trying to be set on a copy of a slice from a DataFrame\n",
      "\n",
      "See the caveats in the documentation: http://pandas.pydata.org/pandas-docs/stable/indexing.html#indexing-view-versus-copy\n",
      "C:\\Users\\lobda\\Anaconda3\\lib\\site-packages\\ipykernel_launcher.py:69: SettingWithCopyWarning: \n",
      "A value is trying to be set on a copy of a slice from a DataFrame\n",
      "\n",
      "See the caveats in the documentation: http://pandas.pydata.org/pandas-docs/stable/indexing.html#indexing-view-versus-copy\n",
      "C:\\Users\\lobda\\Anaconda3\\lib\\site-packages\\ipykernel_launcher.py:51: SettingWithCopyWarning: \n",
      "A value is trying to be set on a copy of a slice from a DataFrame\n",
      "\n",
      "See the caveats in the documentation: http://pandas.pydata.org/pandas-docs/stable/indexing.html#indexing-view-versus-copy\n",
      "C:\\Users\\lobda\\Anaconda3\\lib\\site-packages\\ipykernel_launcher.py:63: SettingWithCopyWarning: \n",
      "A value is trying to be set on a copy of a slice from a DataFrame\n",
      "\n",
      "See the caveats in the documentation: http://pandas.pydata.org/pandas-docs/stable/indexing.html#indexing-view-versus-copy\n",
      "C:\\Users\\lobda\\Anaconda3\\lib\\site-packages\\ipykernel_launcher.py:67: SettingWithCopyWarning: \n",
      "A value is trying to be set on a copy of a slice from a DataFrame\n",
      "\n",
      "See the caveats in the documentation: http://pandas.pydata.org/pandas-docs/stable/indexing.html#indexing-view-versus-copy\n",
      "C:\\Users\\lobda\\Anaconda3\\lib\\site-packages\\ipykernel_launcher.py:55: SettingWithCopyWarning: \n",
      "A value is trying to be set on a copy of a slice from a DataFrame\n",
      "\n",
      "See the caveats in the documentation: http://pandas.pydata.org/pandas-docs/stable/indexing.html#indexing-view-versus-copy\n"
     ]
    }
   ],
   "source": [
    "i = 0\n",
    "for lin in teste_f['palavras']:\n",
    "    p0 = 1\n",
    "    p1 = 1\n",
    "    p2 = 1\n",
    "    p3 = 1\n",
    "    sim = 1\n",
    "    nao = 0\n",
    "    prob1 = []\n",
    "    prob0 = []\n",
    "    prob2 = []\n",
    "    prob3 = []\n",
    "    for palavra in lin:\n",
    "        try:\n",
    "            p0 *= (freq_irrelevante[palavra] +1)/(sum(freq_irrelevante) + len(freq_todos))\n",
    "            prob0.append(p0)\n",
    "        except:\n",
    "            p0 *= 1/(sum(freq_irrelevante) + len(freq_todos))\n",
    "            prob0.append(p0)\n",
    "        try:\n",
    "            p1 *= (freq_elogio[palavra] +1)/(sum(freq_elogio) + len(freq_todos))\n",
    "            prob1.append(p1)\n",
    "        except:\n",
    "            p1 *= 1/(sum(freq_elogio) + len(freq_todos))\n",
    "            prob1.append(p1)\n",
    "        try:\n",
    "            p2 *= (freq_critica[palavra] +1)/(sum(freq_critica) + len(freq_todos))\n",
    "            prob2.append(p2)\n",
    "        except:\n",
    "            p2 *= 1/(sum(freq_critica) + len(freq_todos))\n",
    "            prob2.append(p2)\n",
    "        try:\n",
    "            p3 *= (freq_sugestao[palavra] +1)/(sum(freq_sugestao) + len(freq_todos))\n",
    "            prob3.append(p3)\n",
    "        except:\n",
    "            p3 *= 1/(sum(freq_sugestao) + len(freq_todos))\n",
    "            prob3.append(p3)\n",
    "            \n",
    "    multiplica0 = multiplica(prob0)*(sum(freq_irrelevante)/sum(freq_todos))   \n",
    "    multiplica1 = multiplica(prob1)*(sum(freq_elogio)/sum(freq_todos))\n",
    "    multiplica2 = multiplica(prob2)*(sum(freq_critica)/sum(freq_todos))   \n",
    "    multiplica3 = multiplica(prob3)*(sum(freq_sugestao)/sum(freq_todos))\n",
    "    \n",
    "    \n",
    "    \n",
    "    if (multiplica0>multiplica1) & (multiplica0 > multiplica2) & (multiplica0 > multiplica3):\n",
    "        teste['Bot'][i] = 0\n",
    "        if teste['Bot'][i] == teste['Classificacao'][i]:\n",
    "            teste['Resultado'][i] = 'Positivo Verdadeiro'\n",
    "        elif teste['Bot'][i] != teste['Classificacao'][i]:\n",
    "            teste['Resultado'][i] = 'Positivo Falso'\n",
    "    elif (multiplica1>multiplica0) & (multiplica1 > multiplica2) & (multiplica1 > multiplica3):\n",
    "        teste['Bot'][i] = 1\n",
    "        if teste['Bot'][i] == teste['Classificacao'][i]:\n",
    "            teste['Resultado'][i] = 'Negativo Verdadeiro'\n",
    "        elif teste['Bot'][i] != teste['Classificacao'][i]:\n",
    "            teste['Resultado'][i] = 'Negativo Falso'\n",
    "    elif (multiplica2>multiplica0) & (multiplica2 > multiplica1) & (multiplica2 > multiplica3):\n",
    "        teste['Bot'][i] = 2\n",
    "        if teste['Bot'][i] == teste['Classificacao'][i]:\n",
    "            teste['Resultado'][i] = 'Negativo Verdadeiro'\n",
    "        elif teste['Bot'][i] != teste['Classificacao'][i]:\n",
    "            teste['Resultado'][i] = 'Negativo Falso'\n",
    "    else:\n",
    "        teste['Bot'][i] = 3\n",
    "        if teste['Bot'][i] == teste['Classificacao'][i]:\n",
    "            teste['Resultado'][i] = 'Negativo Verdadeiro'\n",
    "        elif teste['Bot'][i] != teste['Classificacao'][i]:\n",
    "            teste['Resultado'][i] = 'Negativo Falso'\n",
    "    \n",
    "    i += 1"
   ]
  },
  {
   "cell_type": "code",
   "execution_count": 17,
   "metadata": {},
   "outputs": [
    {
     "data": {
      "text/html": [
       "<div>\n",
       "<style scoped>\n",
       "    .dataframe tbody tr th:only-of-type {\n",
       "        vertical-align: middle;\n",
       "    }\n",
       "\n",
       "    .dataframe tbody tr th {\n",
       "        vertical-align: top;\n",
       "    }\n",
       "\n",
       "    .dataframe thead th {\n",
       "        text-align: right;\n",
       "    }\n",
       "</style>\n",
       "<table border=\"1\" class=\"dataframe\">\n",
       "  <thead>\n",
       "    <tr style=\"text-align: right;\">\n",
       "      <th>Bot</th>\n",
       "      <th>0</th>\n",
       "      <th>1</th>\n",
       "      <th>2</th>\n",
       "      <th>3</th>\n",
       "    </tr>\n",
       "    <tr>\n",
       "      <th>Classificacao</th>\n",
       "      <th></th>\n",
       "      <th></th>\n",
       "      <th></th>\n",
       "      <th></th>\n",
       "    </tr>\n",
       "  </thead>\n",
       "  <tbody>\n",
       "    <tr>\n",
       "      <th>0</th>\n",
       "      <td>0.1775</td>\n",
       "      <td>0.0400</td>\n",
       "      <td>0.040</td>\n",
       "      <td>0.3125</td>\n",
       "    </tr>\n",
       "    <tr>\n",
       "      <th>1</th>\n",
       "      <td>0.0300</td>\n",
       "      <td>0.0225</td>\n",
       "      <td>0.020</td>\n",
       "      <td>0.1025</td>\n",
       "    </tr>\n",
       "    <tr>\n",
       "      <th>2</th>\n",
       "      <td>0.0375</td>\n",
       "      <td>0.0150</td>\n",
       "      <td>0.025</td>\n",
       "      <td>0.1125</td>\n",
       "    </tr>\n",
       "    <tr>\n",
       "      <th>3</th>\n",
       "      <td>0.0125</td>\n",
       "      <td>0.0050</td>\n",
       "      <td>0.005</td>\n",
       "      <td>0.0425</td>\n",
       "    </tr>\n",
       "  </tbody>\n",
       "</table>\n",
       "</div>"
      ],
      "text/plain": [
       "Bot                 0       1      2       3\n",
       "Classificacao                               \n",
       "0              0.1775  0.0400  0.040  0.3125\n",
       "1              0.0300  0.0225  0.020  0.1025\n",
       "2              0.0375  0.0150  0.025  0.1125\n",
       "3              0.0125  0.0050  0.005  0.0425"
      ]
     },
     "execution_count": 17,
     "metadata": {},
     "output_type": "execute_result"
    }
   ],
   "source": [
    "matrix = pd.crosstab(teste['Classificacao'], teste['Bot'], normalize = True)\n",
    "matrix"
   ]
  },
  {
   "cell_type": "code",
   "execution_count": 18,
   "metadata": {},
   "outputs": [
    {
     "data": {
      "image/png": "[encoded data removed]",
      "text/plain": [
       "<Figure size 288x288 with 2 Axes>"
      ]
     },
     "metadata": {
      "needs_background": "light"
     },
     "output_type": "display_data"
    }
   ],
   "source": [
    "#Criando função para plotar o gráfico\n",
    "def plot_confusion_matrix(df_confusion, cmap=plt.cm.Blues):\n",
    "    plt.matshow(df_confusion, cmap=cmap) # imshow\n",
    "    plt.colorbar()\n",
    "    tick_marks = np.arange(len(df_confusion.columns))\n",
    "    plt.xticks(tick_marks, df_confusion.columns, rotation=45)\n",
    "    plt.yticks(tick_marks, df_confusion.index)\n",
    "\n",
    "#Plotando o gráfico    \n",
    "plot_confusion_matrix(matrix)"
   ]
  },
  {
   "cell_type": "markdown",
   "metadata": {},
   "source": [
    "___\n",
    "### Concluindo"
   ]
  },
  {
   "cell_type": "markdown",
   "metadata": {},
   "source": [
    "O calssificador apresentou baixa precisão ao classificar os tweets devido à sua base de treino, esse fato deve-se à forma como os tweets sobre o título escolhido, Netflix, são compostos.\n",
    "\n",
    "Grande parte dos tweets em nosso DataFrame possuem mais de uma forma de serem classificados, e muitas vezes não se adequam perfeitamente às classificações propostas, dessa forma ao treinar o algorítimo para aprender a classifica-los ocorre uma alteração em como o classificador contabiliza as frases devido as palavras presentes nesses tweets que acabam sendo levados em conta na hora de classificar um tweet qualquer, ou seja, no momento em que nosso algoritimo classifica um tweet ele leva em conta o numero total de palavras e a chance de ocorrencia de cada uma delas em uma frase, assim levando em conta também as palavras presentes nesses tweets ambiguos, o que favorece uma classificação menos precisa do tweet sendo analisado.\n",
    "\n",
    "Como a base de tweets a ser classificado é grande, assim como o numero de tweets ambiguos, acaba ocorrendo uma série de classificações erradas, o que acaba por deixar o algoritimo pouco preciso."
   ]
  },
  {
   "cell_type": "markdown",
   "metadata": {},
   "source": [
    "### Proposta de melhora\n",
    "___"
   ]
  },
  {
   "cell_type": "markdown",
   "metadata": {},
   "source": [
    "Tendo em vista os motivos pelos quais o nosso algoritimo apresentou uma precisão abaixo da desejada: problemas com tweets ambiguos e de duvidosa classificação. Uma forma de melhorar a precisão seria: Revisar o DataFrame \"Treinamento\" com o qual nosso classificador \"Aprende\" a classificar os tweets, de modo a deixa-lo o mais limpo de tweets ambiguos quanto possível. \n",
    "\n",
    "Para fazer isso teriamos que revisar o DataFrame \"Treinamento\" em busca dos tweets em que houveram dificuldades de classificação, e substitui-los por tweets mais coerentes que não deixassem qualquer duvida sobre como proderiam ser classificados, ou seja, uma classificação absoluta. Dessa forma ao contabilizar as palavras presentes nesse novos tweets (e ao mesmo tempo deixando de levar em conta as palavras presentes nos tweets ambiguos) teriamos uma classificação mais precisa, pois as palavras estariam com suas probabilidades de ocorrencia em um tweet qualquer sobre o titulo escolhido (Netflix) mais exatas, resultando em um algoritimo que melhor classificaria os tweets do DataFrame \"Teste\"\n",
    "\n",
    "Além disso, outra melhoria importante no classificador seria obter uma base de dados classificada de forma mais homogênea, ou seja, obter uma base de treinamento com algo entorno de 25% dos tweets classificados para cada categoria, já que isso faria com que as probabilidades de cada categoria fossem mais corretas.\n"
   ]
  },
  {
   "cell_type": "markdown",
   "metadata": {},
   "source": [
    "### Usos fora do contexto do projeto\n",
    "___"
   ]
  },
  {
   "cell_type": "markdown",
   "metadata": {},
   "source": [
    "Além de classificação de sentimentos, como abordado durante este projeto, o método de Naïve Bayes pode ser usados em diversos outros contextos, como por exemplo o sistema de filtragem de e-mails. Ele pode ser usado para classificar um e-mail como SPAM ou lixo eletrônico para assim deixar a caixa de e-mail dos usuários mais limpas e sem itens indesejados.\n"
   ]
  },
  {
   "cell_type": "markdown",
   "metadata": {},
   "source": [
    "___\n",
    "## Aperfeiçoamento:\n",
    "\n",
    "Os trabalhos vão evoluir em conceito dependendo da quantidade de itens avançados:\n",
    "\n",
    "* Limpar: \\n, :, \", ', (, ), etc SEM remover emojis\n",
    "* Corrigir separação de espaços entre palavras e emojis ou entre emojis e emojis\n",
    "* Propor outras limpezas e transformações que não afetem a qualidade da informação ou classificação\n",
    "* Criar categorias intermediárias de relevância baseadas na probabilidade: ex.: muito relevante, relevante, neutro, irrelevante, muito irrelevante (3 categorias: C, mais categorias conta para B)\n",
    "* Explicar por que não posso usar o próprio classificador para gerar mais amostras de treinamento\n",
    "* Propor diferentes cenários para Naïve Bayes fora do contexto do projeto\n",
    "* Sugerir e explicar melhorias reais com indicações concretas de como implementar (indicar como fazer e indicar material de pesquisa)\n",
    "* Montar um dashboard que periodicamente realiza análise de sentimento e visualiza estes dados"
   ]
  },
  {
   "cell_type": "markdown",
   "metadata": {},
   "source": [
    "___\n",
    "## Referências"
   ]
  },
  {
   "cell_type": "markdown",
   "metadata": {},
   "source": [
    "[Naive Bayes and Text Classification](https://arxiv.org/pdf/1410.5329.pdf)  **Mais completo**\n",
    "\n",
    "[A practical explanation of a Naive Bayes Classifier](https://monkeylearn.com/blog/practical-explanation-naive-bayes-classifier/) **Mais simples**\n",
    "\n",
    "https://www.datageeks.com.br/naive-bayes/"
   ]
  },
  {
   "cell_type": "code",
   "execution_count": null,
   "metadata": {},
   "outputs": [],
   "source": []
  }
 ],
 "metadata": {
  "kernelspec": {
   "display_name": "Python 3",
   "language": "python",
   "name": "python3"
  },
  "language_info": {
   "codemirror_mode": {
    "name": "ipython",
    "version": 3
   },
   "file_extension": ".py",
   "mimetype": "text/x-python",
   "name": "python",
   "nbconvert_exporter": "python",
   "pygments_lexer": "ipython3",
   "version": "3.7.3"
  }
 },
 "nbformat": 4,
 "nbformat_minor": 4
}
